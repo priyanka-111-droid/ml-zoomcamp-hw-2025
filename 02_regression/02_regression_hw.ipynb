{
 "cells": [
  {
   "cell_type": "code",
   "execution_count": 57,
   "id": "8f60e432-428c-4832-9760-8d1530d0f9da",
   "metadata": {},
   "outputs": [],
   "source": [
    "import pandas as pd\n",
    "import matplotlib.pyplot as plt\n",
    "import seaborn as sns\n",
    "import numpy as np\n",
    "\n",
    "%matplotlib inline"
   ]
  },
  {
   "cell_type": "code",
   "execution_count": 58,
   "id": "671f5084-53a8-4abb-8bbf-6f748d69f0bb",
   "metadata": {},
   "outputs": [],
   "source": [
    "df = pd.read_csv(\"car_fuel_efficiency.csv\")"
   ]
  },
  {
   "cell_type": "code",
   "execution_count": 59,
   "id": "72dcae88-8de4-4fd5-9cd3-4263f22492b5",
   "metadata": {},
   "outputs": [
    {
     "data": {
      "text/html": [
       "<div>\n",
       "<style scoped>\n",
       "    .dataframe tbody tr th:only-of-type {\n",
       "        vertical-align: middle;\n",
       "    }\n",
       "\n",
       "    .dataframe tbody tr th {\n",
       "        vertical-align: top;\n",
       "    }\n",
       "\n",
       "    .dataframe thead th {\n",
       "        text-align: right;\n",
       "    }\n",
       "</style>\n",
       "<table border=\"1\" class=\"dataframe\">\n",
       "  <thead>\n",
       "    <tr style=\"text-align: right;\">\n",
       "      <th></th>\n",
       "      <th>engine_displacement</th>\n",
       "      <th>num_cylinders</th>\n",
       "      <th>horsepower</th>\n",
       "      <th>vehicle_weight</th>\n",
       "      <th>acceleration</th>\n",
       "      <th>model_year</th>\n",
       "      <th>origin</th>\n",
       "      <th>fuel_type</th>\n",
       "      <th>drivetrain</th>\n",
       "      <th>num_doors</th>\n",
       "      <th>fuel_efficiency_mpg</th>\n",
       "    </tr>\n",
       "  </thead>\n",
       "  <tbody>\n",
       "    <tr>\n",
       "      <th>0</th>\n",
       "      <td>170</td>\n",
       "      <td>3.0</td>\n",
       "      <td>159.0</td>\n",
       "      <td>3413.433759</td>\n",
       "      <td>17.7</td>\n",
       "      <td>2003</td>\n",
       "      <td>Europe</td>\n",
       "      <td>Gasoline</td>\n",
       "      <td>All-wheel drive</td>\n",
       "      <td>0.0</td>\n",
       "      <td>13.231729</td>\n",
       "    </tr>\n",
       "    <tr>\n",
       "      <th>1</th>\n",
       "      <td>130</td>\n",
       "      <td>5.0</td>\n",
       "      <td>97.0</td>\n",
       "      <td>3149.664934</td>\n",
       "      <td>17.8</td>\n",
       "      <td>2007</td>\n",
       "      <td>USA</td>\n",
       "      <td>Gasoline</td>\n",
       "      <td>Front-wheel drive</td>\n",
       "      <td>0.0</td>\n",
       "      <td>13.688217</td>\n",
       "    </tr>\n",
       "    <tr>\n",
       "      <th>2</th>\n",
       "      <td>170</td>\n",
       "      <td>NaN</td>\n",
       "      <td>78.0</td>\n",
       "      <td>3079.038997</td>\n",
       "      <td>15.1</td>\n",
       "      <td>2018</td>\n",
       "      <td>Europe</td>\n",
       "      <td>Gasoline</td>\n",
       "      <td>Front-wheel drive</td>\n",
       "      <td>0.0</td>\n",
       "      <td>14.246341</td>\n",
       "    </tr>\n",
       "    <tr>\n",
       "      <th>3</th>\n",
       "      <td>220</td>\n",
       "      <td>4.0</td>\n",
       "      <td>NaN</td>\n",
       "      <td>2542.392402</td>\n",
       "      <td>20.2</td>\n",
       "      <td>2009</td>\n",
       "      <td>USA</td>\n",
       "      <td>Diesel</td>\n",
       "      <td>All-wheel drive</td>\n",
       "      <td>2.0</td>\n",
       "      <td>16.912736</td>\n",
       "    </tr>\n",
       "    <tr>\n",
       "      <th>4</th>\n",
       "      <td>210</td>\n",
       "      <td>1.0</td>\n",
       "      <td>140.0</td>\n",
       "      <td>3460.870990</td>\n",
       "      <td>14.4</td>\n",
       "      <td>2009</td>\n",
       "      <td>Europe</td>\n",
       "      <td>Gasoline</td>\n",
       "      <td>All-wheel drive</td>\n",
       "      <td>2.0</td>\n",
       "      <td>12.488369</td>\n",
       "    </tr>\n",
       "  </tbody>\n",
       "</table>\n",
       "</div>"
      ],
      "text/plain": [
       "   engine_displacement  num_cylinders  horsepower  vehicle_weight  \\\n",
       "0                  170            3.0       159.0     3413.433759   \n",
       "1                  130            5.0        97.0     3149.664934   \n",
       "2                  170            NaN        78.0     3079.038997   \n",
       "3                  220            4.0         NaN     2542.392402   \n",
       "4                  210            1.0       140.0     3460.870990   \n",
       "\n",
       "   acceleration  model_year  origin fuel_type         drivetrain  num_doors  \\\n",
       "0          17.7        2003  Europe  Gasoline    All-wheel drive        0.0   \n",
       "1          17.8        2007     USA  Gasoline  Front-wheel drive        0.0   \n",
       "2          15.1        2018  Europe  Gasoline  Front-wheel drive        0.0   \n",
       "3          20.2        2009     USA    Diesel    All-wheel drive        2.0   \n",
       "4          14.4        2009  Europe  Gasoline    All-wheel drive        2.0   \n",
       "\n",
       "   fuel_efficiency_mpg  \n",
       "0            13.231729  \n",
       "1            13.688217  \n",
       "2            14.246341  \n",
       "3            16.912736  \n",
       "4            12.488369  "
      ]
     },
     "execution_count": 59,
     "metadata": {},
     "output_type": "execute_result"
    }
   ],
   "source": [
    "df.head()"
   ]
  },
  {
   "cell_type": "code",
   "execution_count": 60,
   "id": "ad611b4c-711f-4baa-9dde-f16869b09c9e",
   "metadata": {},
   "outputs": [],
   "source": [
    "df_filtered = df[[\"engine_displacement\",\"horsepower\",\"vehicle_weight\",\"model_year\",\"fuel_efficiency_mpg\"]]"
   ]
  },
  {
   "cell_type": "code",
   "execution_count": 61,
   "id": "148e4aa0-09b0-431c-b730-896bb7227aa6",
   "metadata": {},
   "outputs": [
    {
     "data": {
      "text/html": [
       "<div>\n",
       "<style scoped>\n",
       "    .dataframe tbody tr th:only-of-type {\n",
       "        vertical-align: middle;\n",
       "    }\n",
       "\n",
       "    .dataframe tbody tr th {\n",
       "        vertical-align: top;\n",
       "    }\n",
       "\n",
       "    .dataframe thead th {\n",
       "        text-align: right;\n",
       "    }\n",
       "</style>\n",
       "<table border=\"1\" class=\"dataframe\">\n",
       "  <thead>\n",
       "    <tr style=\"text-align: right;\">\n",
       "      <th></th>\n",
       "      <th>engine_displacement</th>\n",
       "      <th>horsepower</th>\n",
       "      <th>vehicle_weight</th>\n",
       "      <th>model_year</th>\n",
       "      <th>fuel_efficiency_mpg</th>\n",
       "    </tr>\n",
       "  </thead>\n",
       "  <tbody>\n",
       "    <tr>\n",
       "      <th>0</th>\n",
       "      <td>170</td>\n",
       "      <td>159.0</td>\n",
       "      <td>3413.433759</td>\n",
       "      <td>2003</td>\n",
       "      <td>13.231729</td>\n",
       "    </tr>\n",
       "    <tr>\n",
       "      <th>1</th>\n",
       "      <td>130</td>\n",
       "      <td>97.0</td>\n",
       "      <td>3149.664934</td>\n",
       "      <td>2007</td>\n",
       "      <td>13.688217</td>\n",
       "    </tr>\n",
       "    <tr>\n",
       "      <th>2</th>\n",
       "      <td>170</td>\n",
       "      <td>78.0</td>\n",
       "      <td>3079.038997</td>\n",
       "      <td>2018</td>\n",
       "      <td>14.246341</td>\n",
       "    </tr>\n",
       "    <tr>\n",
       "      <th>3</th>\n",
       "      <td>220</td>\n",
       "      <td>NaN</td>\n",
       "      <td>2542.392402</td>\n",
       "      <td>2009</td>\n",
       "      <td>16.912736</td>\n",
       "    </tr>\n",
       "    <tr>\n",
       "      <th>4</th>\n",
       "      <td>210</td>\n",
       "      <td>140.0</td>\n",
       "      <td>3460.870990</td>\n",
       "      <td>2009</td>\n",
       "      <td>12.488369</td>\n",
       "    </tr>\n",
       "    <tr>\n",
       "      <th>...</th>\n",
       "      <td>...</td>\n",
       "      <td>...</td>\n",
       "      <td>...</td>\n",
       "      <td>...</td>\n",
       "      <td>...</td>\n",
       "    </tr>\n",
       "    <tr>\n",
       "      <th>9699</th>\n",
       "      <td>140</td>\n",
       "      <td>164.0</td>\n",
       "      <td>2981.107371</td>\n",
       "      <td>2013</td>\n",
       "      <td>15.101802</td>\n",
       "    </tr>\n",
       "    <tr>\n",
       "      <th>9700</th>\n",
       "      <td>180</td>\n",
       "      <td>154.0</td>\n",
       "      <td>2439.525729</td>\n",
       "      <td>2004</td>\n",
       "      <td>17.962326</td>\n",
       "    </tr>\n",
       "    <tr>\n",
       "      <th>9701</th>\n",
       "      <td>220</td>\n",
       "      <td>138.0</td>\n",
       "      <td>2583.471318</td>\n",
       "      <td>2008</td>\n",
       "      <td>17.186587</td>\n",
       "    </tr>\n",
       "    <tr>\n",
       "      <th>9702</th>\n",
       "      <td>230</td>\n",
       "      <td>177.0</td>\n",
       "      <td>2905.527390</td>\n",
       "      <td>2011</td>\n",
       "      <td>15.331551</td>\n",
       "    </tr>\n",
       "    <tr>\n",
       "      <th>9703</th>\n",
       "      <td>270</td>\n",
       "      <td>140.0</td>\n",
       "      <td>2908.043477</td>\n",
       "      <td>2005</td>\n",
       "      <td>14.884467</td>\n",
       "    </tr>\n",
       "  </tbody>\n",
       "</table>\n",
       "<p>9704 rows × 5 columns</p>\n",
       "</div>"
      ],
      "text/plain": [
       "      engine_displacement  horsepower  vehicle_weight  model_year  \\\n",
       "0                     170       159.0     3413.433759        2003   \n",
       "1                     130        97.0     3149.664934        2007   \n",
       "2                     170        78.0     3079.038997        2018   \n",
       "3                     220         NaN     2542.392402        2009   \n",
       "4                     210       140.0     3460.870990        2009   \n",
       "...                   ...         ...             ...         ...   \n",
       "9699                  140       164.0     2981.107371        2013   \n",
       "9700                  180       154.0     2439.525729        2004   \n",
       "9701                  220       138.0     2583.471318        2008   \n",
       "9702                  230       177.0     2905.527390        2011   \n",
       "9703                  270       140.0     2908.043477        2005   \n",
       "\n",
       "      fuel_efficiency_mpg  \n",
       "0               13.231729  \n",
       "1               13.688217  \n",
       "2               14.246341  \n",
       "3               16.912736  \n",
       "4               12.488369  \n",
       "...                   ...  \n",
       "9699            15.101802  \n",
       "9700            17.962326  \n",
       "9701            17.186587  \n",
       "9702            15.331551  \n",
       "9703            14.884467  \n",
       "\n",
       "[9704 rows x 5 columns]"
      ]
     },
     "execution_count": 61,
     "metadata": {},
     "output_type": "execute_result"
    }
   ],
   "source": [
    "df_filtered"
   ]
  },
  {
   "cell_type": "markdown",
   "id": "5fdd5145-397a-4e05-8e22-6c95620fa22f",
   "metadata": {},
   "source": [
    "### EDA"
   ]
  },
  {
   "cell_type": "code",
   "execution_count": 62,
   "id": "fa119d5a-b029-48b0-a427-706c8db59f07",
   "metadata": {},
   "outputs": [
    {
     "data": {
      "text/plain": [
       "Index(['engine_displacement', 'horsepower', 'vehicle_weight', 'model_year',\n",
       "       'fuel_efficiency_mpg'],\n",
       "      dtype='object')"
      ]
     },
     "execution_count": 62,
     "metadata": {},
     "output_type": "execute_result"
    }
   ],
   "source": [
    "df_filtered.columns"
   ]
  },
  {
   "cell_type": "code",
   "execution_count": 63,
   "id": "f90915ef-83e1-4a81-8087-dc3026e5d450",
   "metadata": {},
   "outputs": [
    {
     "data": {
      "image/png": "[encoded data removed]",
      "text/plain": [
       "<Figure size 640x480 with 1 Axes>"
      ]
     },
     "metadata": {},
     "output_type": "display_data"
    }
   ],
   "source": [
    "sns.histplot(df_filtered['fuel_efficiency_mpg'],bins=100)\n",
    "plt.show()"
   ]
  },
  {
   "cell_type": "markdown",
   "id": "30e9049b-9323-4ae9-a1ef-c31e009f7a85",
   "metadata": {},
   "source": [
    "### No it does not have long tail."
   ]
  },
  {
   "cell_type": "markdown",
   "id": "e66ac8f9-d06b-4674-bae7-3762c154dbbf",
   "metadata": {},
   "source": [
    "### Question 1 ) There's one column with missing values. What is it?"
   ]
  },
  {
   "cell_type": "code",
   "execution_count": 64,
   "id": "07cb7735-f735-49f4-90a7-c1f9b7cae5aa",
   "metadata": {},
   "outputs": [
    {
     "data": {
      "text/plain": [
       "engine_displacement      0\n",
       "horsepower             708\n",
       "vehicle_weight           0\n",
       "model_year               0\n",
       "fuel_efficiency_mpg      0\n",
       "dtype: int64"
      ]
     },
     "execution_count": 64,
     "metadata": {},
     "output_type": "execute_result"
    }
   ],
   "source": [
    "df_filtered.isna().sum()\n"
   ]
  },
  {
   "cell_type": "markdown",
   "id": "6661e7c3-539a-4086-94f9-73e99f8937f3",
   "metadata": {},
   "source": [
    "### Column is horsepower"
   ]
  },
  {
   "cell_type": "markdown",
   "id": "3f68a58c-87e7-4c48-a596-a2dac1851cd2",
   "metadata": {},
   "source": [
    "### Question 2) "
   ]
  },
  {
   "cell_type": "markdown",
   "id": "54205681-16a4-422f-b810-ec4292ed83e0",
   "metadata": {},
   "source": [
    "### What's the median (50% percentile) for variable 'horsepower'?"
   ]
  },
  {
   "cell_type": "code",
   "execution_count": 65,
   "id": "82cd8587-c459-4c65-9bc3-eefc8f528c7f",
   "metadata": {},
   "outputs": [],
   "source": [
    "hp = df_filtered['horsepower'].dropna()\n"
   ]
  },
  {
   "cell_type": "code",
   "execution_count": 66,
   "id": "e355e371-41ae-4b59-b379-fa125542c24f",
   "metadata": {},
   "outputs": [
    {
     "data": {
      "text/plain": [
       "np.float64(149.0)"
      ]
     },
     "execution_count": 66,
     "metadata": {},
     "output_type": "execute_result"
    }
   ],
   "source": [
    "np.median(hp)"
   ]
  },
  {
   "cell_type": "markdown",
   "id": "fa901fad-0d13-4c43-9ada-d9b71f0121be",
   "metadata": {},
   "source": [
    "### Answer is 149"
   ]
  },
  {
   "cell_type": "markdown",
   "id": "58a5abd6-0916-4e27-9ce4-53a96ed0d1d1",
   "metadata": {},
   "source": [
    "### Prepare and split the dataset"
   ]
  },
  {
   "cell_type": "code",
   "execution_count": 156,
   "id": "67c667d6-5b3d-4e99-bb99-5542fbc56b01",
   "metadata": {},
   "outputs": [],
   "source": [
    "n = len(df_filtered)\n",
    "n_val = int(n*.2)\n",
    "n_test = int(n*.2)\n",
    "n_train = int(n*.6)\n"
   ]
  },
  {
   "cell_type": "code",
   "execution_count": 157,
   "id": "71360c25-85eb-43d5-9028-b08313295261",
   "metadata": {},
   "outputs": [
    {
     "data": {
      "text/plain": [
       "(5822, 1940, 1940)"
      ]
     },
     "execution_count": 157,
     "metadata": {},
     "output_type": "execute_result"
    }
   ],
   "source": [
    "n_train, n_val, n_test"
   ]
  },
  {
   "cell_type": "code",
   "execution_count": 158,
   "id": "34e53ec0-0c59-4cbb-9034-4e5e5ce22d82",
   "metadata": {},
   "outputs": [],
   "source": [
    "df_train = df_filtered.iloc[:n_train]\n",
    "df_val = df_filtered.iloc[n_train:n_train+n_val]\n",
    "df_test = df_filtered.iloc[n_train + n_val :]\n",
    "#now shuffle\n"
   ]
  },
  {
   "cell_type": "code",
   "execution_count": 159,
   "id": "0887c0a8-5bc9-4beb-a1d8-4599f18f1354",
   "metadata": {},
   "outputs": [],
   "source": [
    "idx = np.arange(n)"
   ]
  },
  {
   "cell_type": "code",
   "execution_count": 160,
   "id": "a6a4f353-ea1a-4533-80c5-00999ce8fec6",
   "metadata": {},
   "outputs": [],
   "source": [
    "np.random.seed(42) \n",
    "np.random.shuffle(idx)"
   ]
  },
  {
   "cell_type": "code",
   "execution_count": 161,
   "id": "c8ab3b66-3c36-4c5a-b02d-cf8baeccb216",
   "metadata": {},
   "outputs": [
    {
     "data": {
      "text/plain": [
       "array([ 483, 7506, 8795, ..., 5390,  860, 7270])"
      ]
     },
     "execution_count": 161,
     "metadata": {},
     "output_type": "execute_result"
    }
   ],
   "source": [
    "idx"
   ]
  },
  {
   "cell_type": "code",
   "execution_count": 162,
   "id": "2918a912-86fc-4918-9a1e-9cd22245c21d",
   "metadata": {},
   "outputs": [],
   "source": [
    "df_train = df_filtered.iloc[idx[:n_train]].copy()\n",
    "df_val = df_filtered.iloc[idx[n_train:n_train + n_val]].copy()\n",
    "df_test = df_filtered.iloc[idx[n_train + n_val:]].copy()"
   ]
  },
  {
   "cell_type": "code",
   "execution_count": 163,
   "id": "0a80d597-85d9-46f5-a01f-1d6b9e7c23a1",
   "metadata": {},
   "outputs": [],
   "source": [
    "y_train = df_train[\"fuel_efficiency_mpg\"].values\n",
    "y_val = df_val[\"fuel_efficiency_mpg\"].values\n",
    "y_test = df_test[\"fuel_efficiency_mpg\"].values"
   ]
  },
  {
   "cell_type": "code",
   "execution_count": 164,
   "id": "f45a60de-abaa-4475-af35-061fef290e28",
   "metadata": {},
   "outputs": [],
   "source": [
    "del df_train[\"fuel_efficiency_mpg\"]\n",
    "del df_val[\"fuel_efficiency_mpg\"]\n",
    "del df_test[\"fuel_efficiency_mpg\"]"
   ]
  },
  {
   "cell_type": "markdown",
   "id": "5c41e260-4ce0-4617-994a-7b961e097863",
   "metadata": {},
   "source": [
    "### Question 3)"
   ]
  },
  {
   "cell_type": "code",
   "execution_count": 110,
   "id": "59e93d71-ec8f-46e8-8f91-db4af84ab41f",
   "metadata": {},
   "outputs": [],
   "source": [
    "def train_linear_regression(X, y):\n",
    "    ones = np.ones(X.shape[0])\n",
    "    X = np.column_stack([ones, X])\n",
    "\n",
    "    XTX = X.T.dot(X)\n",
    "    XTX_inv = np.linalg.inv(XTX)\n",
    "    w = XTX_inv.dot(X.T).dot(y)\n",
    "    \n",
    "    return w[0], w[1:]"
   ]
  },
  {
   "cell_type": "code",
   "execution_count": 111,
   "id": "e3d37dc9-2893-4236-99cf-4222f8abab0e",
   "metadata": {},
   "outputs": [
    {
     "data": {
      "text/plain": [
       "engine_displacement      int64\n",
       "horsepower             float64\n",
       "vehicle_weight         float64\n",
       "model_year               int64\n",
       "fuel_efficiency_mpg    float64\n",
       "dtype: object"
      ]
     },
     "execution_count": 111,
     "metadata": {},
     "output_type": "execute_result"
    }
   ],
   "source": [
    "df_filtered.dtypes"
   ]
  },
  {
   "cell_type": "code",
   "execution_count": 112,
   "id": "eb4df2b8-6894-4fe4-9820-9340049f4d0b",
   "metadata": {},
   "outputs": [],
   "source": [
    "base = ['engine_displacement','horsepower','vehicle_weight','model_year']"
   ]
  },
  {
   "cell_type": "code",
   "execution_count": 113,
   "id": "6e838a5d-a1da-47fa-9696-d7957279197b",
   "metadata": {},
   "outputs": [],
   "source": [
    "X_train = df_train[base].values"
   ]
  },
  {
   "cell_type": "code",
   "execution_count": 114,
   "id": "9630a9f6-0144-4760-b745-e3a7f91eb19a",
   "metadata": {},
   "outputs": [
    {
     "data": {
      "text/plain": [
       "engine_displacement      0\n",
       "horsepower             429\n",
       "vehicle_weight           0\n",
       "model_year               0\n",
       "dtype: int64"
      ]
     },
     "execution_count": 114,
     "metadata": {},
     "output_type": "execute_result"
    }
   ],
   "source": [
    "df_train[base].isna().sum()"
   ]
  },
  {
   "cell_type": "code",
   "execution_count": 115,
   "id": "fe8f1c9f-e903-4b34-951c-bf51c62cae72",
   "metadata": {},
   "outputs": [],
   "source": [
    "def rmse(y,y_pred):\n",
    "    se = (y-y_pred)**2\n",
    "    mse = se.mean()\n",
    "    return np.sqrt(mse)"
   ]
  },
  {
   "cell_type": "markdown",
   "id": "1db86a3e-f124-4c17-8331-17eeed8d5665",
   "metadata": {},
   "source": [
    "### With 0"
   ]
  },
  {
   "cell_type": "code",
   "execution_count": 116,
   "id": "b0caf6e4-0e68-4dfe-a172-107d458ace23",
   "metadata": {},
   "outputs": [
    {
     "data": {
      "text/plain": [
       "(np.float64(nan), array([nan, nan, nan, nan]))"
      ]
     },
     "execution_count": 116,
     "metadata": {},
     "output_type": "execute_result"
    }
   ],
   "source": [
    "train_linear_regression(X_train,y_train)"
   ]
  },
  {
   "cell_type": "code",
   "execution_count": 117,
   "id": "2daa0c45-b638-4cf1-bb3a-147114208d08",
   "metadata": {},
   "outputs": [],
   "source": [
    "X_train_0 = df_train[base].fillna(0).values"
   ]
  },
  {
   "cell_type": "code",
   "execution_count": 118,
   "id": "859fe33f-c478-4788-8419-b95b2699cc8a",
   "metadata": {},
   "outputs": [
    {
     "data": {
      "text/plain": [
       "array([[ 220.        ,  144.        , 2535.88759124, 2009.        ],\n",
       "       [ 160.        ,  141.        , 2741.17048439, 2019.        ],\n",
       "       [ 230.        ,  155.        , 2471.88023726, 2017.        ],\n",
       "       ...,\n",
       "       [ 260.        ,  139.        , 2606.9729844 , 2009.        ],\n",
       "       [ 280.        ,  132.        , 4004.21432295, 2014.        ],\n",
       "       [ 210.        ,  152.        , 2500.17568746, 2020.        ]])"
      ]
     },
     "execution_count": 118,
     "metadata": {},
     "output_type": "execute_result"
    }
   ],
   "source": [
    "X_train_0"
   ]
  },
  {
   "cell_type": "code",
   "execution_count": 119,
   "id": "53902893-55d9-48d8-b261-005d76ac63e7",
   "metadata": {},
   "outputs": [],
   "source": [
    "w0,w = train_linear_regression(X_train_0,y_train)"
   ]
  },
  {
   "cell_type": "code",
   "execution_count": 120,
   "id": "6d18004b-c762-46bc-9f8a-40929832ed56",
   "metadata": {},
   "outputs": [],
   "source": [
    "y_pred = w0 + X_train_0.dot(w)"
   ]
  },
  {
   "cell_type": "code",
   "execution_count": 121,
   "id": "d9316453-6abf-4709-ba87-e6629ca17e6c",
   "metadata": {},
   "outputs": [
    {
     "data": {
      "image/png": "[encoded data removed]",
      "text/plain": [
       "<Figure size 640x480 with 1 Axes>"
      ]
     },
     "metadata": {},
     "output_type": "display_data"
    }
   ],
   "source": [
    "sns.histplot(y_pred,color='Red',bins=50,alpha=0.5)\n",
    "sns.histplot(y_train,color='Blue',bins=50,alpha=0.5)\n",
    "plt.show()"
   ]
  },
  {
   "cell_type": "code",
   "execution_count": 122,
   "id": "64157880-7b00-4e70-9b02-5226cea80f68",
   "metadata": {},
   "outputs": [
    {
     "data": {
      "text/plain": [
       "np.float64(0.52)"
      ]
     },
     "execution_count": 122,
     "metadata": {},
     "output_type": "execute_result"
    }
   ],
   "source": [
    "round(rmse(y_train,y_pred),2)"
   ]
  },
  {
   "cell_type": "markdown",
   "id": "8b4aef1b-8ee6-4dcc-b63f-82cfd1260053",
   "metadata": {},
   "source": [
    "## With mean"
   ]
  },
  {
   "cell_type": "code",
   "execution_count": 123,
   "id": "e0574ca7-e6fb-4946-9d7c-88a777b79099",
   "metadata": {},
   "outputs": [],
   "source": [
    "mean_horsepower = df_train['horsepower'].mean()\n"
   ]
  },
  {
   "cell_type": "code",
   "execution_count": 124,
   "id": "29a0ce36-8ffa-4dec-afea-49a638d17731",
   "metadata": {},
   "outputs": [],
   "source": [
    "# Fill missing values with the mean\n",
    "X_train_mean = df_train[base].fillna(mean_horsepower).values"
   ]
  },
  {
   "cell_type": "code",
   "execution_count": 125,
   "id": "e4e71a8a-d4de-4ffd-bc15-9c8458c439d8",
   "metadata": {},
   "outputs": [],
   "source": [
    "w0, w = train_linear_regression(X_train_mean, y_train)"
   ]
  },
  {
   "cell_type": "code",
   "execution_count": 126,
   "id": "6d754a5b-f84e-4c1c-aec9-a9fe38c0f5af",
   "metadata": {},
   "outputs": [],
   "source": [
    "y_pred_mean = w0 + X_train_mean.dot(w)"
   ]
  },
  {
   "cell_type": "code",
   "execution_count": 127,
   "id": "c3ec34dc-f98f-4100-827e-5889623f70bd",
   "metadata": {},
   "outputs": [
    {
     "data": {
      "text/plain": [
       "np.float64(0.46)"
      ]
     },
     "execution_count": 127,
     "metadata": {},
     "output_type": "execute_result"
    }
   ],
   "source": [
    "round(rmse(y_train, y_pred_mean), 2)"
   ]
  },
  {
   "cell_type": "markdown",
   "id": "f9b32a8a-8b88-43b9-a55b-b9d638750630",
   "metadata": {},
   "source": [
    "## Hence With 0 option gives Better RMSE."
   ]
  },
  {
   "cell_type": "markdown",
   "id": "48b52c2c-0d12-4706-a17c-6fe120db2fde",
   "metadata": {},
   "source": [
    "## Question 4)\n",
    "Now let's train a regularized linear regression.\n",
    "For this question, fill the NAs with 0.\n",
    "Try different values of r from this list: [0, 0.01, 0.1, 1, 5, 10, 100].\n",
    "Use RMSE to evaluate the model on the validation dataset.\n",
    "Round the RMSE scores to 2 decimal digits.\n",
    "Which r gives the best RMSE?"
   ]
  },
  {
   "cell_type": "code",
   "execution_count": 128,
   "id": "218b4384-c37a-4c9c-abaf-b2b62425d300",
   "metadata": {},
   "outputs": [],
   "source": [
    "def train_linear_regression_reg(X, y, r=0.0):\n",
    "    ones = np.ones(X.shape[0])\n",
    "    X = np.column_stack([ones, X])\n",
    "\n",
    "    XTX = X.T.dot(X)\n",
    "    reg = r * np.eye(XTX.shape[0])\n",
    "    XTX = XTX + reg\n",
    "\n",
    "    XTX_inv = np.linalg.inv(XTX)\n",
    "    w = XTX_inv.dot(X.T).dot(y)\n",
    "    \n",
    "    return w[0], w[1:]"
   ]
  },
  {
   "cell_type": "code",
   "execution_count": 129,
   "id": "a3fc454a-e65b-4de9-b8ad-4732e7453e5c",
   "metadata": {},
   "outputs": [],
   "source": [
    "X_train_0 = df_train[base].fillna(0).values"
   ]
  },
  {
   "cell_type": "code",
   "execution_count": 130,
   "id": "14bdb12d-93ea-46b3-be40-556464009c52",
   "metadata": {},
   "outputs": [],
   "source": [
    "X_val_0 = df_val[base].fillna(0).values"
   ]
  },
  {
   "cell_type": "code",
   "execution_count": 144,
   "id": "2ca3cc62-4c8d-438e-9b75-183279c6aae8",
   "metadata": {},
   "outputs": [
    {
     "name": "stdout",
     "output_type": "stream",
     "text": [
      "Best r is 0.01 with RMSE 0.52\n"
     ]
    }
   ],
   "source": [
    "r_values = [0, 0.01, 0.1, 1, 5, 10, 100]\n",
    "best_rmse = float('inf')\n",
    "best_r = None\n",
    "\n",
    "for r in r_values:\n",
    "    w0, w = train_linear_regression_reg(X_train_0, y_train, r)\n",
    "    \n",
    "    y_pred_val = w0 + X_val_0.dot(w)\n",
    "\n",
    "    rmse_val = rmse(y_val,y_pred_val)\n",
    "    \n",
    "    # Keep track of the best r and RMSE\n",
    "    if rmse_val < best_rmse:\n",
    "        best_rmse = rmse_val\n",
    "        best_r = r\n",
    "\n",
    "print(f\"Best r is {best_r} with RMSE {round(best_rmse, 2)}\")\n"
   ]
  },
  {
   "cell_type": "markdown",
   "id": "4a09d1b9-4419-4e08-873c-afb9b32fec13",
   "metadata": {},
   "source": [
    "## Answer is 0.01"
   ]
  },
  {
   "cell_type": "markdown",
   "id": "fb9b824f-d541-4381-b34a-68e5abbfe8c0",
   "metadata": {},
   "source": [
    "## Question 5) \n",
    "We used seed 42 for splitting the data. Let's find out how selecting the seed influences our score.\n",
    "Try different seed values: [0, 1, 2, 3, 4, 5, 6, 7, 8, 9].\n",
    "For each seed, do the train/validation/test split with 60%/20%/20% distribution.\n",
    "Fill the missing values with 0 and train a model without regularization.\n",
    "For each seed, evaluate the model on the validation dataset and collect the RMSE scores.\n",
    "What's the standard deviation of all the scores? To compute the standard deviation, use np.std.\n",
    "Round the result to 3 decimal digits (round(std, 3))"
   ]
  },
  {
   "cell_type": "code",
   "execution_count": 145,
   "id": "1c201baa-9324-4c0c-b979-8272dbd1f500",
   "metadata": {},
   "outputs": [],
   "source": [
    "seed_values = range(10)\n",
    "rmse_scores = []"
   ]
  },
  {
   "cell_type": "code",
   "execution_count": 149,
   "id": "fbff4756-4fb6-488d-bd2a-36c39f8c70f2",
   "metadata": {},
   "outputs": [],
   "source": [
    "for seed in seed_values:\n",
    "    np.random.seed(seed)\n",
    "    w0,w = train_linear_regression(X_train_0,y_train)\n",
    "    y_pred_val = w0 + X_val_0.dot(w)\n",
    "\n",
    "    # Calculate RMSE\n",
    "    rmse_val = rmse(y_val, y_pred_val)\n",
    "\n",
    "    # Collect RMSE scores\n",
    "    rmse_scores.append(rmse_val)"
   ]
  },
  {
   "cell_type": "code",
   "execution_count": 150,
   "id": "e6bb4a07-c5f0-495a-8a10-2213d1b97164",
   "metadata": {},
   "outputs": [],
   "source": [
    "std_rmse = np.std(rmse_scores)"
   ]
  },
  {
   "cell_type": "code",
   "execution_count": 152,
   "id": "3451205e-459f-4f09-8252-88128344d9e8",
   "metadata": {},
   "outputs": [
    {
     "data": {
      "text/plain": [
       "np.float64(1.1102230246251565e-16)"
      ]
     },
     "execution_count": 152,
     "metadata": {},
     "output_type": "execute_result"
    }
   ],
   "source": [
    "std_rmse"
   ]
  },
  {
   "cell_type": "code",
   "execution_count": 153,
   "id": "61beca9e-47d3-4cbb-8b1c-4ac52b91a8e0",
   "metadata": {},
   "outputs": [
    {
     "data": {
      "text/plain": [
       "np.float64(0.0)"
      ]
     },
     "execution_count": 153,
     "metadata": {},
     "output_type": "execute_result"
    }
   ],
   "source": [
    "round(std_rmse, 3)"
   ]
  },
  {
   "cell_type": "markdown",
   "id": "7ca8bb27-bbc0-42d5-95c9-d8cd97cd3f22",
   "metadata": {},
   "source": [
    "## Answer is 0.001"
   ]
  },
  {
   "cell_type": "markdown",
   "id": "7ca44c55-66c7-4b86-87f4-06f0d771bba8",
   "metadata": {},
   "source": [
    "## Question 6)\n",
    "Split the dataset like previously, use seed 9.\n",
    "Combine train and validation datasets.\n",
    "Fill the missing values with 0 and train a model with r=0.001.\n",
    "What's the RMSE on the test dataset?"
   ]
  },
  {
   "cell_type": "code",
   "execution_count": 174,
   "id": "18ec8849-6b14-407e-8020-87930745d8e8",
   "metadata": {},
   "outputs": [],
   "source": [
    "X_train_val = pd.concat([df_train[base], df_val[base]], axis=0)  \n",
    "y_train_val = np.concatenate([y_train, y_val]) \n",
    "\n",
    "# Step 3: Fill missing values with 0\n",
    "X_train_val_0 = X_train_val.fillna(0).values\n",
    "X_test_0 = df_test[base].fillna(0).values"
   ]
  },
  {
   "cell_type": "code",
   "execution_count": 175,
   "id": "b03629c7-c8e3-4da2-a49e-0f675fee654e",
   "metadata": {},
   "outputs": [],
   "source": [
    "w0, w = train_linear_regression_reg(X_train_val_0, y_train_val, r=0.001)"
   ]
  },
  {
   "cell_type": "code",
   "execution_count": 176,
   "id": "8d758b4e-e6af-4563-a600-b82c060292a1",
   "metadata": {},
   "outputs": [],
   "source": [
    "y_pred_test = w0 + X_test_0.dot(w)"
   ]
  },
  {
   "cell_type": "code",
   "execution_count": 177,
   "id": "82eeb7f9-e638-4256-9d0e-70e9deaa968a",
   "metadata": {},
   "outputs": [],
   "source": [
    "rmse_test = rmse(y_test, y_pred_test)"
   ]
  },
  {
   "cell_type": "code",
   "execution_count": 178,
   "id": "2c436202-3c09-416c-ad91-013bd7d2129d",
   "metadata": {},
   "outputs": [
    {
     "data": {
      "text/plain": [
       "np.float64(0.5165174215194456)"
      ]
     },
     "execution_count": 178,
     "metadata": {},
     "output_type": "execute_result"
    }
   ],
   "source": [
    "rmse_test"
   ]
  },
  {
   "cell_type": "markdown",
   "id": "bdd62f28-dcea-4f9d-851c-1e7b8bcea6e6",
   "metadata": {},
   "source": [
    "## Answer is 0.515"
   ]
  },
  {
   "cell_type": "code",
   "execution_count": null,
   "id": "7ffc1bfe-e339-40ee-9fce-c686d5c074d0",
   "metadata": {},
   "outputs": [],
   "source": []
  }
 ],
 "metadata": {
  "kernelspec": {
   "display_name": "Python 3 (ipykernel)",
   "language": "python",
   "name": "python3"
  },
  "language_info": {
   "codemirror_mode": {
    "name": "ipython",
    "version": 3
   },
   "file_extension": ".py",
   "mimetype": "text/x-python",
   "name": "python",
   "nbconvert_exporter": "python",
   "pygments_lexer": "ipython3",
   "version": "3.11.13"
  }
 },
 "nbformat": 4,
 "nbformat_minor": 5
}
